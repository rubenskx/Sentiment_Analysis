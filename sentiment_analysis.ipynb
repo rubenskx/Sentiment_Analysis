{
 "cells": [
  {
   "cell_type": "code",
   "execution_count": 1,
   "id": "010afbaf",
   "metadata": {},
   "outputs": [
    {
     "name": "stdout",
     "output_type": "stream",
     "text": [
      "Requirement already satisfied: nltk in d:\\ml\\anaconda\\lib\\site-packages (3.6.1)\n",
      "Requirement already satisfied: click in d:\\ml\\anaconda\\lib\\site-packages (from nltk) (7.1.2)\n",
      "Requirement already satisfied: joblib in d:\\ml\\anaconda\\lib\\site-packages (from nltk) (1.0.1)\n",
      "Requirement already satisfied: regex in d:\\ml\\anaconda\\lib\\site-packages (from nltk) (2021.4.4)\n",
      "Requirement already satisfied: tqdm in d:\\ml\\anaconda\\lib\\site-packages (from nltk) (4.59.0)\n"
     ]
    }
   ],
   "source": [
    "!pip install nltk"
   ]
  },
  {
   "cell_type": "code",
   "execution_count": 2,
   "id": "80fd4df6",
   "metadata": {},
   "outputs": [
    {
     "name": "stdout",
     "output_type": "stream",
     "text": [
      "Requirement already satisfied: textblob in d:\\ml\\anaconda\\lib\\site-packages (0.17.1)\n",
      "Requirement already satisfied: nltk>=3.1 in d:\\ml\\anaconda\\lib\\site-packages (from textblob) (3.6.1)\n",
      "Requirement already satisfied: joblib in d:\\ml\\anaconda\\lib\\site-packages (from nltk>=3.1->textblob) (1.0.1)\n",
      "Requirement already satisfied: tqdm in d:\\ml\\anaconda\\lib\\site-packages (from nltk>=3.1->textblob) (4.59.0)\n",
      "Requirement already satisfied: regex in d:\\ml\\anaconda\\lib\\site-packages (from nltk>=3.1->textblob) (2021.4.4)\n",
      "Requirement already satisfied: click in d:\\ml\\anaconda\\lib\\site-packages (from nltk>=3.1->textblob) (7.1.2)\n"
     ]
    }
   ],
   "source": [
    "!pip install textblob"
   ]
  },
  {
   "cell_type": "code",
   "execution_count": 3,
   "id": "6d52dc14",
   "metadata": {},
   "outputs": [
    {
     "name": "stdout",
     "output_type": "stream",
     "text": [
      "Requirement already satisfied: newspaper3k in d:\\ml\\anaconda\\lib\\site-packages (0.2.8)\n",
      "Requirement already satisfied: Pillow>=3.3.0 in d:\\ml\\anaconda\\lib\\site-packages (from newspaper3k) (8.2.0)\n",
      "Requirement already satisfied: PyYAML>=3.11 in d:\\ml\\anaconda\\lib\\site-packages (from newspaper3k) (5.4.1)\n",
      "Requirement already satisfied: jieba3k>=0.35.1 in d:\\ml\\anaconda\\lib\\site-packages (from newspaper3k) (0.35.1)\n",
      "Requirement already satisfied: tinysegmenter==0.3 in d:\\ml\\anaconda\\lib\\site-packages (from newspaper3k) (0.3)\n",
      "Requirement already satisfied: feedfinder2>=0.0.4 in d:\\ml\\anaconda\\lib\\site-packages (from newspaper3k) (0.0.4)\n",
      "Requirement already satisfied: lxml>=3.6.0 in d:\\ml\\anaconda\\lib\\site-packages (from newspaper3k) (4.6.3)\n",
      "Requirement already satisfied: nltk>=3.2.1 in d:\\ml\\anaconda\\lib\\site-packages (from newspaper3k) (3.6.1)\n",
      "Requirement already satisfied: tldextract>=2.0.1 in d:\\ml\\anaconda\\lib\\site-packages (from newspaper3k) (3.1.2)\n",
      "Requirement already satisfied: feedparser>=5.2.1 in d:\\ml\\anaconda\\lib\\site-packages (from newspaper3k) (6.0.8)\n",
      "Requirement already satisfied: cssselect>=0.9.2 in d:\\ml\\anaconda\\lib\\site-packages (from newspaper3k) (1.1.0)\n",
      "Requirement already satisfied: python-dateutil>=2.5.3 in d:\\ml\\anaconda\\lib\\site-packages (from newspaper3k) (2.8.1)\n",
      "Requirement already satisfied: requests>=2.10.0 in d:\\ml\\anaconda\\lib\\site-packages (from newspaper3k) (2.25.1)\n",
      "Requirement already satisfied: beautifulsoup4>=4.4.1 in d:\\ml\\anaconda\\lib\\site-packages (from newspaper3k) (4.9.3)\n",
      "Requirement already satisfied: soupsieve>1.2 in d:\\ml\\anaconda\\lib\\site-packages (from beautifulsoup4>=4.4.1->newspaper3k) (2.2.1)\n",
      "Requirement already satisfied: six in d:\\ml\\anaconda\\lib\\site-packages (from feedfinder2>=0.0.4->newspaper3k) (1.15.0)\n",
      "Requirement already satisfied: sgmllib3k in d:\\ml\\anaconda\\lib\\site-packages (from feedparser>=5.2.1->newspaper3k) (1.0.0)\n",
      "Requirement already satisfied: click in d:\\ml\\anaconda\\lib\\site-packages (from nltk>=3.2.1->newspaper3k) (7.1.2)\n",
      "Requirement already satisfied: regex in d:\\ml\\anaconda\\lib\\site-packages (from nltk>=3.2.1->newspaper3k) (2021.4.4)\n",
      "Requirement already satisfied: joblib in d:\\ml\\anaconda\\lib\\site-packages (from nltk>=3.2.1->newspaper3k) (1.0.1)\n",
      "Requirement already satisfied: tqdm in d:\\ml\\anaconda\\lib\\site-packages (from nltk>=3.2.1->newspaper3k) (4.59.0)\n",
      "Requirement already satisfied: certifi>=2017.4.17 in d:\\ml\\anaconda\\lib\\site-packages (from requests>=2.10.0->newspaper3k) (2020.12.5)\n",
      "Requirement already satisfied: chardet<5,>=3.0.2 in d:\\ml\\anaconda\\lib\\site-packages (from requests>=2.10.0->newspaper3k) (4.0.0)\n",
      "Requirement already satisfied: idna<3,>=2.5 in d:\\ml\\anaconda\\lib\\site-packages (from requests>=2.10.0->newspaper3k) (2.10)\n",
      "Requirement already satisfied: urllib3<1.27,>=1.21.1 in d:\\ml\\anaconda\\lib\\site-packages (from requests>=2.10.0->newspaper3k) (1.26.4)\n",
      "Requirement already satisfied: requests-file>=1.4 in d:\\ml\\anaconda\\lib\\site-packages (from tldextract>=2.0.1->newspaper3k) (1.5.1)\n",
      "Requirement already satisfied: filelock>=3.0.8 in d:\\ml\\anaconda\\lib\\site-packages (from tldextract>=2.0.1->newspaper3k) (3.0.12)\n"
     ]
    }
   ],
   "source": [
    "!pip install newspaper3k "
   ]
  },
  {
   "cell_type": "code",
   "execution_count": 4,
   "id": "b5440425",
   "metadata": {},
   "outputs": [],
   "source": [
    "import nltk\n",
    "from textblob import TextBlob\n",
    "from newspaper import Article"
   ]
  },
  {
   "cell_type": "code",
   "execution_count": 5,
   "id": "63232bcb",
   "metadata": {},
   "outputs": [
    {
     "name": "stderr",
     "output_type": "stream",
     "text": [
      "[nltk_data] Downloading package punkt to C:\\Users\\DELL-\n",
      "[nltk_data]     PC\\AppData\\Roaming\\nltk_data...\n",
      "[nltk_data]   Package punkt is already up-to-date!\n"
     ]
    },
    {
     "data": {
      "text/plain": [
       "True"
      ]
     },
     "execution_count": 5,
     "metadata": {},
     "output_type": "execute_result"
    }
   ],
   "source": [
    "import nltk\n",
    "nltk.download('punkt')"
   ]
  },
  {
   "cell_type": "code",
   "execution_count": 11,
   "id": "2164345b",
   "metadata": {},
   "outputs": [
    {
     "name": "stdout",
     "output_type": "stream",
     "text": [
      "-0.4\n"
     ]
    }
   ],
   "source": [
    "text = 'I am not happy'\n",
    "blob  = TextBlob(text)\n",
    "\n",
    "sentiment = blob.sentiment.polarity\n",
    "print(sentiment)"
   ]
  },
  {
   "cell_type": "code",
   "execution_count": null,
   "id": "57a83f91",
   "metadata": {},
   "outputs": [],
   "source": []
  }
 ],
 "metadata": {
  "kernelspec": {
   "display_name": "Python 3",
   "language": "python",
   "name": "python3"
  },
  "language_info": {
   "codemirror_mode": {
    "name": "ipython",
    "version": 3
   },
   "file_extension": ".py",
   "mimetype": "text/x-python",
   "name": "python",
   "nbconvert_exporter": "python",
   "pygments_lexer": "ipython3",
   "version": "3.8.8"
  }
 },
 "nbformat": 4,
 "nbformat_minor": 5
}
